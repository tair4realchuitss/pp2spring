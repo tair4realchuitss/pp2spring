{
 "cells": [
  {
   "cell_type": "code",
   "execution_count": 5,
   "id": "aa960e76-9046-4091-867c-db98c7781570",
   "metadata": {},
   "outputs": [
    {
     "name": "stdout",
     "output_type": "stream",
     "text": [
      "\n",
      "Interface Status\n",
      "================================================================================\n",
      "DN                                                 Description          Speed   MTU   \n",
      "--------------------------------------------------------------------------------\n",
      "topology/pod-1/node-201/sys/phys-[eth1/33]                              inherit 9150  \n",
      "topology/pod-1/node-201/sys/phys-[eth1/34]                              inherit 9150  \n",
      "topology/pod-1/node-201/sys/phys-[eth1/35]                              inherit 9150  \n",
      "topology/pod-1/node-201/sys/phys-[eth1/36]                              inherit 9150  \n",
      "topology/pod-1/node-201/sys/phys-[eth1/1]                               inherit 9150  \n",
      "topology/pod-1/node-201/sys/phys-[eth1/2]                               inherit 9150  \n",
      "topology/pod-1/node-201/sys/phys-[eth1/3]                               inherit 9150  \n",
      "topology/pod-1/node-201/sys/phys-[eth1/4]                               inherit 9150  \n",
      "topology/pod-1/node-201/sys/phys-[eth1/5]                               inherit 9150  \n",
      "topology/pod-1/node-201/sys/phys-[eth1/6]                               inherit 9150  \n",
      "topology/pod-1/node-201/sys/phys-[eth1/7]                               inherit 9150  \n",
      "topology/pod-1/node-201/sys/phys-[eth1/8]                               inherit 9150  \n",
      "topology/pod-1/node-201/sys/phys-[eth1/9]                               inherit 9150  \n",
      "topology/pod-1/node-201/sys/phys-[eth1/10]                              inherit 9150  \n",
      "topology/pod-1/node-201/sys/phys-[eth1/11]                              inherit 9150  \n",
      "topology/pod-1/node-201/sys/phys-[eth1/12]                              inherit 9150  \n",
      "topology/pod-1/node-201/sys/phys-[eth1/13]                              inherit 9150  \n",
      "topology/pod-1/node-201/sys/phys-[eth1/14]                              inherit 9150  \n"
     ]
    }
   ],
   "source": [
    "import json\n",
    "\n",
    "\n",
    "with open(\"sample-data.json\") as f:\n",
    "    x = json.load(f)\n",
    "\n",
    "\n",
    "print(\"\\nInterface Status\")\n",
    "print(\"=\" * 80)\n",
    "print(f\"{'DN':<50} {'Description':<20} {'Speed':<7} {'MTU':<6}\")\n",
    "print(\"-\" * 80)\n",
    "\n",
    "\n",
    "for k in x[\"imdata\"]:\n",
    "    attributes = k[\"l1PhysIf\"][\"attributes\"]\n",
    "    \n",
    "    dn = attributes.get(\"dn\", \"N/A\")  # DN (уникальный ID интерфейса)\n",
    "    desc = attributes.get(\"descr\", \"\")  # Description (может быть пустым)\n",
    "    speed = attributes.get(\"speed\", \"inherit\")  # Speed (если нет, то \"inherit\")\n",
    "    mtu = attributes.get(\"mtu\", \"N/A\")  # MTU (размер пакетов)\n",
    "\n",
    "    print(f\"{dn:<50} {desc:<20} {speed:<7} {mtu:<6}\")\n"
   ]
  },
  {
   "cell_type": "code",
   "execution_count": null,
   "id": "b458658e-6704-459b-a5ce-6acd1fac4d68",
   "metadata": {},
   "outputs": [],
   "source": []
  }
 ],
 "metadata": {
  "kernelspec": {
   "display_name": "Python 3 (ipykernel)",
   "language": "python",
   "name": "python3"
  },
  "language_info": {
   "codemirror_mode": {
    "name": "ipython",
    "version": 3
   },
   "file_extension": ".py",
   "mimetype": "text/x-python",
   "name": "python",
   "nbconvert_exporter": "python",
   "pygments_lexer": "ipython3",
   "version": "3.12.7"
  }
 },
 "nbformat": 4,
 "nbformat_minor": 5
}
