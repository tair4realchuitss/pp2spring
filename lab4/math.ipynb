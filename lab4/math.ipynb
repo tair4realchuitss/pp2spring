{
 "cells": [
  {
   "cell_type": "code",
   "execution_count": null,
   "id": "629db283-7e38-4ad9-bac5-997f6070110e",
   "metadata": {},
   "outputs": [],
   "source": []
  }
 ],
 "metadata": {
  "kernelspec": {
   "display_name": "",
   "name": ""
  },
  "language_info": {
   "name": ""
  }
 },
 "nbformat": 4,
 "nbformat_minor": 5
}
