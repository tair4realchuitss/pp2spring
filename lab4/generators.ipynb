{
 "cells": [
  {
   "cell_type": "code",
   "execution_count": 5,
   "id": "220d317d-17ed-423d-9ecb-fdb7e90cbb18",
   "metadata": {},
   "outputs": [
    {
     "name": "stdin",
     "output_type": "stream",
     "text": [
      "Enter a number:  5\n"
     ]
    },
    {
     "name": "stdout",
     "output_type": "stream",
     "text": [
      "0\n",
      "1\n",
      "4\n",
      "9\n",
      "16\n",
      "25\n"
     ]
    }
   ],
   "source": [
    "def sq(n):\n",
    "    for i in range(n+1):\n",
    "        yield i**2\n",
    "\n",
    "n = int(input(\"Enter a number: \"))\n",
    "\n",
    "for square in sq(n):\n",
    "    print(square)"
   ]
  },
  {
   "cell_type": "code",
   "execution_count": 9,
   "id": "7aea6def-bb40-4a87-8542-997973a36c3d",
   "metadata": {},
   "outputs": [
    {
     "name": "stdin",
     "output_type": "stream",
     "text": [
      " 5\n"
     ]
    },
    {
     "name": "stdout",
     "output_type": "stream",
     "text": [
      "0,2,4\n"
     ]
    }
   ],
   "source": [
    "print(*[i for i in range(0, int(input()), 2)],sep = ',')"
   ]
  },
  {
   "cell_type": "code",
   "execution_count": 14,
   "id": "29a73e24-096b-403c-8eb7-909dbde772e2",
   "metadata": {},
   "outputs": [
    {
     "name": "stdin",
     "output_type": "stream",
     "text": [
      "num:  30\n"
     ]
    },
    {
     "name": "stdout",
     "output_type": "stream",
     "text": [
      "0\n",
      "12\n",
      "24\n"
     ]
    }
   ],
   "source": [
    "def divisible(n):\n",
    "    for i in range(n+1):\n",
    "        if i % 3 == 0 and i%4==0:\n",
    "            yield i \n",
    "\n",
    "n = int(input(\"num: \"))\n",
    "for num in divisible(n):\n",
    "    print(num) "
   ]
  },
  {
   "cell_type": "code",
   "execution_count": 17,
   "id": "1cb8ffde-06e9-4bb5-848f-ff2bad11db4e",
   "metadata": {},
   "outputs": [
    {
     "name": "stdin",
     "output_type": "stream",
     "text": [
      "num:  5\n",
      "num:  10\n"
     ]
    },
    {
     "name": "stdout",
     "output_type": "stream",
     "text": [
      "5\n",
      "6\n",
      "7\n",
      "8\n",
      "9\n",
      "10\n"
     ]
    }
   ],
   "source": [
    "def squares(a,b):\n",
    "    for i in range(a,b+1):\n",
    "        yield i \n",
    "\n",
    "a = int(input(\"num: \"))\n",
    "b = int(input(\"num: \"))\n",
    "\n",
    "for i in squares(a,b):\n",
    "    print(i)"
   ]
  },
  {
   "cell_type": "code",
   "execution_count": null,
   "id": "a0c98711-9449-4bef-a787-d282fb7bb826",
   "metadata": {},
   "outputs": [],
   "source": [
    "print([i for i in range(int(input)), "
   ]
  }
 ],
 "metadata": {
  "kernelspec": {
   "display_name": "Python 3 (ipykernel)",
   "language": "python",
   "name": "python3"
  },
  "language_info": {
   "codemirror_mode": {
    "name": "ipython",
    "version": 3
   },
   "file_extension": ".py",
   "mimetype": "text/x-python",
   "name": "python",
   "nbconvert_exporter": "python",
   "pygments_lexer": "ipython3",
   "version": "3.12.7"
  }
 },
 "nbformat": 4,
 "nbformat_minor": 5
}
