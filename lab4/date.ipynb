{
 "cells": [
  {
   "cell_type": "code",
   "execution_count": 3,
   "id": "e1dca0a2-a93b-486d-aea3-458d3206a06a",
   "metadata": {},
   "outputs": [
    {
     "name": "stdout",
     "output_type": "stream",
     "text": [
      "2025-02-28\n"
     ]
    }
   ],
   "source": [
    "import datetime as dt\n",
    "\n",
    "x = dt.date.today() - dt.timedelta(5)\n",
    "\n",
    "print(x)"
   ]
  },
  {
   "cell_type": "code",
   "execution_count": 5,
   "id": "8d8f811a-a0d4-4e14-bd43-14ac2137c38a",
   "metadata": {},
   "outputs": [
    {
     "name": "stdout",
     "output_type": "stream",
     "text": [
      "2025-03-05\n",
      "2025-03-04\n",
      "2025-03-06\n"
     ]
    }
   ],
   "source": [
    "import datetime as dt \n",
    "\n",
    "print(dt.date.today())\n",
    "print(dt.date.today() - dt.timedelta(1))\n",
    "print(dt.date.today() + dt.timedelta(1))"
   ]
  },
  {
   "cell_type": "code",
   "execution_count": 6,
   "id": "888176b8-688b-437d-9a9d-dbadc2045b7c",
   "metadata": {},
   "outputs": [
    {
     "name": "stdout",
     "output_type": "stream",
     "text": [
      "2025-03-05 20:30:50\n"
     ]
    }
   ],
   "source": [
    "import datetime as dt  \n",
    "\n",
    "print(dt.datetime.now().replace(microsecond = 0))"
   ]
  },
  {
   "cell_type": "code",
   "execution_count": 8,
   "id": "9c5d609c-a629-49c9-8ebe-b3bbb850708c",
   "metadata": {},
   "outputs": [
    {
     "name": "stdout",
     "output_type": "stream",
     "text": [
      "Разница в секундах: 99045.0\n"
     ]
    }
   ],
   "source": [
    "from datetime import datetime\n",
    "\n",
    "x = datetime(2018, 1, 2, 12, 0, 0)\n",
    "y = datetime(2018, 1, 3, 15, 30, 45)\n",
    "diff_seconds = (y - x).total_seconds()\n",
    "\n",
    "print(\"Разница в секундах:\", diff_seconds)"
   ]
  },
  {
   "cell_type": "code",
   "execution_count": null,
   "id": "5c850cc2-a625-4864-b987-f61327e13c47",
   "metadata": {},
   "outputs": [],
   "source": []
  }
 ],
 "metadata": {
  "kernelspec": {
   "display_name": "Python 3 (ipykernel)",
   "language": "python",
   "name": "python3"
  },
  "language_info": {
   "codemirror_mode": {
    "name": "ipython",
    "version": 3
   },
   "file_extension": ".py",
   "mimetype": "text/x-python",
   "name": "python",
   "nbconvert_exporter": "python",
   "pygments_lexer": "ipython3",
   "version": "3.12.7"
  }
 },
 "nbformat": 4,
 "nbformat_minor": 5
}
