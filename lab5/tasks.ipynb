{
 "cells": [
  {
   "cell_type": "code",
   "execution_count": 1,
   "id": "9a129f64-8ee4-40ac-8496-6e9a48da6921",
   "metadata": {},
   "outputs": [
    {
     "name": "stdout",
     "output_type": "stream",
     "text": [
      "Matched: ['a', 'ab', 'abb']\n"
     ]
    }
   ],
   "source": [
    "import re\n",
    "\n",
    "pattern = r\"^ab*$\"\n",
    "test_strings = [\"a\", \"ab\", \"abb\", \"ac\", \"b\", \"abc\", \"aabb\"]\n",
    "\n",
    "matches = [s for s in test_strings if re.search(pattern, s)]\n",
    "\n",
    "print(\"Matched:\", matches)"
   ]
  },
  {
   "cell_type": "code",
   "execution_count": 2,
   "id": "bb58a538-a3e0-4205-8736-11ca84983b88",
   "metadata": {},
   "outputs": [
    {
     "name": "stdout",
     "output_type": "stream",
     "text": [
      "['abb', 'abbb', 'abbb']\n"
     ]
    }
   ],
   "source": [
    "import re\n",
    "\n",
    "text = \"abc abb abbb abbbb\"\n",
    "\n",
    "matches = re.findall(r'ab{2,3}', text)\n",
    "\n",
    "if matches:\n",
    "    print(matches)\n",
    "else:\n",
    "    print(\"No match found.\") "
   ]
  },
  {
   "cell_type": "code",
   "execution_count": 3,
   "id": "d4eac7f5-383e-48f7-93af-0ed746be7bf0",
   "metadata": {},
   "outputs": [
    {
     "name": "stdout",
     "output_type": "stream",
     "text": [
      "Matching sequences: ['hello_world', 'test_case', 'another_example']\n"
     ]
    }
   ],
   "source": [
    "import re\n",
    "\n",
    "text = \"hello_world test_case Example_Test another_example\"\n",
    "\n",
    "x = r'\\b[a-z]+_[a-z]+\\b'\n",
    "matches = re.findall(x, text)\n",
    "if matches:\n",
    "    print(\"Matching sequences:\", matches)\n",
    "else:\n",
    "    print(\"No match found.\")"
   ]
  },
  {
   "cell_type": "code",
   "execution_count": 4,
   "id": "62bf2dec-d11a-45b0-ad8d-b9749beafa08",
   "metadata": {},
   "outputs": [
    {
     "name": "stdout",
     "output_type": "stream",
     "text": [
      "Matching sequences: ['Hello', 'Test', 'Case']\n"
     ]
    }
   ],
   "source": [
    "import re\n",
    "\n",
    "text = \"Hello world Test Case Example_Test anotherExample\"\n",
    "pattern = r'\\b[A-Z][a-z]+\\b'  \n",
    "\n",
    "matches = re.findall(pattern, text)\n",
    "\n",
    "if matches:\n",
    "    print(\"Matching sequences:\", matches)\n",
    "else:\n",
    "    print(\"No match found.\")"
   ]
  },
  {
   "cell_type": "code",
   "execution_count": 5,
   "id": "06829f8d-5fc3-4136-9638-2be593c0b1b6",
   "metadata": {},
   "outputs": [
    {
     "name": "stdout",
     "output_type": "stream",
     "text": [
      "Matching strings: ['ab', 'acb', 'a123b', 'aXYZb', 'a_b', 'aabb']\n"
     ]
    }
   ],
   "source": [
    "import re\n",
    "\n",
    "strings = [\"ab\", \"acb\", \"a123b\", \"aXYZb\", \"a_b\", \"b\", \"ba\", \"abc\", \"aabb\"]\n",
    "\n",
    "pattern = r'^a.*b$'\n",
    "\n",
    "matches = [s for s in strings if re.fullmatch(pattern, s)]\n",
    "\n",
    "if matches:\n",
    "    print(\"Matching strings:\", matches)\n",
    "else:\n",
    "    print(\"No match found.\")"
   ]
  },
  {
   "cell_type": "code",
   "execution_count": 6,
   "id": "014c6756-82cd-4820-b07f-f90dc83ab146",
   "metadata": {},
   "outputs": [
    {
     "name": "stdout",
     "output_type": "stream",
     "text": [
      "Original text: Hello, world. This is a test, let's replace spaces, commas, and dots.\n",
      "Modified text: Hello::world::This:is:a:test::let's:replace:spaces::commas::and:dots:\n"
     ]
    }
   ],
   "source": [
    "import re\n",
    "\n",
    "text = \"Hello, world. This is a test, let's replace spaces, commas, and dots.\"\n",
    "\n",
    "x = r'[ ,.]'\n",
    "\n",
    "modified_text = re.sub(x, \":\", text)\n",
    "\n",
    "print(\"Original text:\", text)\n",
    "print(\"Modified text:\", modified_text)"
   ]
  },
  {
   "cell_type": "code",
   "execution_count": 7,
   "id": "2401226b-f690-4e4a-bdfe-4bcc79332b6f",
   "metadata": {},
   "outputs": [
    {
     "name": "stdout",
     "output_type": "stream",
     "text": [
      "Snake Case: hello_world_example\n",
      "Camel Case: helloWorldExample\n"
     ]
    }
   ],
   "source": [
    "import re\n",
    "\n",
    "def snake_to_camel(snake_str):\n",
    "   \n",
    "    words = snake_str.split('_')\n",
    "\n",
    "    camel_case_str = words[0] + ''.join(word.capitalize() for word in words[1:])\n",
    "\n",
    "    return camel_case_str\n",
    "\n",
    "snake_case_string = \"hello_world_example\"\n",
    "camel_case_string = snake_to_camel(snake_case_string)\n",
    "\n",
    "print(\"Snake Case:\", snake_case_string)\n",
    "print(\"Camel Case:\", camel_case_string) "
   ]
  },
  {
   "cell_type": "code",
   "execution_count": 8,
   "id": "bfcdee47-3264-41dc-9dc5-941c6e88aa31",
   "metadata": {},
   "outputs": [
    {
     "name": "stdout",
     "output_type": "stream",
     "text": [
      "Original String: HelloWorldExample\n",
      "Split Words: ['Hello', 'World', 'Example']\n"
     ]
    }
   ],
   "source": [
    "import re\n",
    "\n",
    "def split_at_uppercase(text):\n",
    "   \n",
    "    words = re.findall(r'[A-Z][a-z]*', text)\n",
    "    return words\n",
    "\n",
    "my_text = \"HelloWorldExample\"\n",
    "result = split_at_uppercase(my_text)\n",
    "\n",
    "print(\"Original String:\", my_text)\n",
    "print(\"Split Words:\", result)"
   ]
  },
  {
   "cell_type": "code",
   "execution_count": 9,
   "id": "ea8fc71e-43c6-4566-8555-68fbba7e1806",
   "metadata": {},
   "outputs": [
    {
     "name": "stdout",
     "output_type": "stream",
     "text": [
      "Here Is Some Data\n"
     ]
    }
   ],
   "source": [
    "import re\n",
    "\n",
    "my_text = 'HereIsSomeData'\n",
    "\n",
    "formatted_text = re.sub(r'(?<=[a-z])([A-Z])', r' \\1', my_text)\n",
    "\n",
    "print(formatted_text) "
   ]
  },
  {
   "cell_type": "code",
   "execution_count": null,
   "id": "76adb555-f690-4433-a521-81cf9de1b59b",
   "metadata": {},
   "outputs": [],
   "source": []
  }
 ],
 "metadata": {
  "kernelspec": {
   "display_name": "Python 3 (ipykernel)",
   "language": "python",
   "name": "python3"
  },
  "language_info": {
   "codemirror_mode": {
    "name": "ipython",
    "version": 3
   },
   "file_extension": ".py",
   "mimetype": "text/x-python",
   "name": "python",
   "nbconvert_exporter": "python",
   "pygments_lexer": "ipython3",
   "version": "3.12.7"
  }
 },
 "nbformat": 4,
 "nbformat_minor": 5
}
